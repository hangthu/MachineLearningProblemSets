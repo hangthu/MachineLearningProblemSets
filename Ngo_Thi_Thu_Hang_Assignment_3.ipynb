{
  "nbformat": 4,
  "nbformat_minor": 0,
  "metadata": {
    "colab": {
      "name": "Ngo Thi Thu Hang_Exercise 3",
      "provenance": [],
      "collapsed_sections": []
    },
    "language_info": {
      "codemirror_mode": {
        "name": "ipython",
        "version": 3
      },
      "file_extension": ".py",
      "mimetype": "text/x-python",
      "name": "python",
      "nbconvert_exporter": "python",
      "pygments_lexer": "ipython3",
      "version": "3.6.5"
    },
    "kernelspec": {
      "display_name": "Python 3",
      "language": "python",
      "name": "python3"
    }
  },
  "cells": [
    {
      "cell_type": "markdown",
      "metadata": {
        "id": "x7fdTGs4SnyS",
        "colab_type": "text"
      },
      "source": [
        "![](https://i.imgur.com/0AUxkXt.png)"
      ]
    },
    {
      "cell_type": "markdown",
      "metadata": {
        "id": "_uqy69P0Pm0L",
        "colab_type": "text"
      },
      "source": [
        "# Assignment 3 - From data to insights\n",
        "\n",
        "Before you explore the data, write down a short list of what you expect to see in the data: the distribution of key variables, the relationships between important pairs of them, and so on. Such a list is essentially a prediction based on your current understanding of the business.\n",
        "\n",
        "Now analyze the data. Make plots, do summaries, whatever is needed to see if it matches your expectations.\n",
        "\n",
        "Is there anything that doesn’t match? Anything that makes you go “That’s odd” or “That doesn’t make any sense.”?\n",
        "\n",
        "Zoom in and try to understand what in your business is making that weird thing show up in the data like that. This is the critical step.\n",
        "\n",
        "You may have just found an insight into the business and increased your understanding\n",
        "\n",
        "\n",
        "## The data analysis checklist\n",
        "\n",
        "This checklist can be used as a guide during the process of a data analysis, or as a way to evaluate the quality of a reported data analysis.\n",
        "\n",
        "### Answering the first questions\n",
        "\n",
        "1. Did you define the metric for success before beginning?\n",
        "2. Did you understand the context for the question and business application?\n",
        "3. Did you consider whether the question could be answered with the available data?\n",
        "\n",
        "### Cleaning the data\n",
        "\n",
        "1. Did you identify the missing data?\n",
        "2. Is each variable one column?\n",
        "3. Do different data types appear in each table?\n",
        "4. Did you try to identify any errors or miscoding of variables?\n",
        "5. Did you check for outliers?\n",
        "\n",
        "### Exploratory analysis\n",
        "\n",
        "1. Did you make univariate plots (histogram, distplot, boxplot)?\n",
        "2. Did you consider correlations between variables (scatterplot, jointplot, kde plot, correlation matrix)?\n",
        "3. Did you check the units of all data points to make sure they are in the right range?\n",
        "\n",
        "### Presentations\n",
        "\n",
        "1. Did you lead with a brief, understandable to everyone of your problem?\n",
        "2. Did you explain the data, describe the question of interest?\n",
        "3. Did you make sure all legends and axes were legible from the back of the room?"
      ]
    },
    {
      "cell_type": "markdown",
      "metadata": {
        "id": "ZBc0glanPm0M",
        "colab_type": "text"
      },
      "source": [
        "## Dataset - Online Retailes Purchase\n",
        "\n",
        "Typically e-commerce datasets are proprietary and consequently hard to find among publicly available data. However, [The UCI Machine Learning Repository](http://archive.ics.uci.edu/ml/index.php) has made this dataset containing actual transactions from 2010 and 2011. The dataset is maintained on their site, where it can be found by the title \"Online Retail\".\n",
        "\n",
        "\n",
        "### Step 1 - Checking the data\n",
        "\n",
        "**Import tools set**"
      ]
    },
    {
      "cell_type": "code",
      "metadata": {
        "id": "9Cx3LXxfPm0N",
        "colab_type": "code",
        "colab": {}
      },
      "source": [
        "import numpy as np\n",
        "import pandas as pd\n",
        "import seaborn as sns\n",
        "import datetime as dt"
      ],
      "execution_count": 0,
      "outputs": []
    },
    {
      "cell_type": "markdown",
      "metadata": {
        "id": "mFTQu0j6Pm0Q",
        "colab_type": "text"
      },
      "source": [
        "**Import data**"
      ]
    },
    {
      "cell_type": "code",
      "metadata": {
        "id": "w0YVchrVPm0R",
        "colab_type": "code",
        "colab": {}
      },
      "source": [
        "# link = \"https://ml101-khanhnguyen.s3-ap-southeast-1.amazonaws.com/devc/Online_Retail.csv\"\n",
        "# Note: set param encoding = 'latin1'\n",
        "# Your code here\n",
        "\n",
        "pur = pd.read_csv('https://ml101-khanhnguyen.s3-ap-southeast-1.amazonaws.com/devc/Online_Retail.csv', encoding='latin1')"
      ],
      "execution_count": 0,
      "outputs": []
    },
    {
      "cell_type": "code",
      "metadata": {
        "id": "V3v8D3pTFrYh",
        "colab_type": "code",
        "outputId": "f06bd7f5-237f-4963-9078-f39fc30290ac",
        "colab": {
          "base_uri": "https://localhost:8080/",
          "height": 204
        }
      },
      "source": [
        "# Print out First 5 rows from dataframe\n",
        "# Your code here\n",
        "\n",
        "pur.head()"
      ],
      "execution_count": 136,
      "outputs": [
        {
          "output_type": "execute_result",
          "data": {
            "text/html": [
              "<div>\n",
              "<style scoped>\n",
              "    .dataframe tbody tr th:only-of-type {\n",
              "        vertical-align: middle;\n",
              "    }\n",
              "\n",
              "    .dataframe tbody tr th {\n",
              "        vertical-align: top;\n",
              "    }\n",
              "\n",
              "    .dataframe thead th {\n",
              "        text-align: right;\n",
              "    }\n",
              "</style>\n",
              "<table border=\"1\" class=\"dataframe\">\n",
              "  <thead>\n",
              "    <tr style=\"text-align: right;\">\n",
              "      <th></th>\n",
              "      <th>InvoiceNo</th>\n",
              "      <th>StockCode</th>\n",
              "      <th>Description</th>\n",
              "      <th>Quantity</th>\n",
              "      <th>InvoiceDate</th>\n",
              "      <th>UnitPrice</th>\n",
              "      <th>CustomerID</th>\n",
              "      <th>Country</th>\n",
              "    </tr>\n",
              "  </thead>\n",
              "  <tbody>\n",
              "    <tr>\n",
              "      <th>0</th>\n",
              "      <td>536365</td>\n",
              "      <td>85123A</td>\n",
              "      <td>WHITE HANGING HEART T-LIGHT HOLDER</td>\n",
              "      <td>6</td>\n",
              "      <td>12/1/10 8:26</td>\n",
              "      <td>2.55</td>\n",
              "      <td>17850.0</td>\n",
              "      <td>United Kingdom</td>\n",
              "    </tr>\n",
              "    <tr>\n",
              "      <th>1</th>\n",
              "      <td>536365</td>\n",
              "      <td>71053</td>\n",
              "      <td>WHITE METAL LANTERN</td>\n",
              "      <td>6</td>\n",
              "      <td>12/1/10 8:26</td>\n",
              "      <td>3.39</td>\n",
              "      <td>17850.0</td>\n",
              "      <td>United Kingdom</td>\n",
              "    </tr>\n",
              "    <tr>\n",
              "      <th>2</th>\n",
              "      <td>536365</td>\n",
              "      <td>84406B</td>\n",
              "      <td>CREAM CUPID HEARTS COAT HANGER</td>\n",
              "      <td>8</td>\n",
              "      <td>12/1/10 8:26</td>\n",
              "      <td>2.75</td>\n",
              "      <td>17850.0</td>\n",
              "      <td>United Kingdom</td>\n",
              "    </tr>\n",
              "    <tr>\n",
              "      <th>3</th>\n",
              "      <td>536365</td>\n",
              "      <td>84029G</td>\n",
              "      <td>KNITTED UNION FLAG HOT WATER BOTTLE</td>\n",
              "      <td>6</td>\n",
              "      <td>12/1/10 8:26</td>\n",
              "      <td>3.39</td>\n",
              "      <td>17850.0</td>\n",
              "      <td>United Kingdom</td>\n",
              "    </tr>\n",
              "    <tr>\n",
              "      <th>4</th>\n",
              "      <td>536365</td>\n",
              "      <td>84029E</td>\n",
              "      <td>RED WOOLLY HOTTIE WHITE HEART.</td>\n",
              "      <td>6</td>\n",
              "      <td>12/1/10 8:26</td>\n",
              "      <td>3.39</td>\n",
              "      <td>17850.0</td>\n",
              "      <td>United Kingdom</td>\n",
              "    </tr>\n",
              "  </tbody>\n",
              "</table>\n",
              "</div>"
            ],
            "text/plain": [
              "  InvoiceNo StockCode  ... CustomerID         Country\n",
              "0    536365    85123A  ...    17850.0  United Kingdom\n",
              "1    536365     71053  ...    17850.0  United Kingdom\n",
              "2    536365    84406B  ...    17850.0  United Kingdom\n",
              "3    536365    84029G  ...    17850.0  United Kingdom\n",
              "4    536365    84029E  ...    17850.0  United Kingdom\n",
              "\n",
              "[5 rows x 8 columns]"
            ]
          },
          "metadata": {
            "tags": []
          },
          "execution_count": 136
        }
      ]
    },
    {
      "cell_type": "code",
      "metadata": {
        "id": "u4Msf54uFy4w",
        "colab_type": "code",
        "outputId": "edab9fe1-f228-4d25-f3ef-4dcba61b1e1f",
        "colab": {
          "base_uri": "https://localhost:8080/",
          "height": 238
        }
      },
      "source": [
        "# Print out brief info\n",
        "pur.info()"
      ],
      "execution_count": 0,
      "outputs": [
        {
          "output_type": "stream",
          "text": [
            "<class 'pandas.core.frame.DataFrame'>\n",
            "RangeIndex: 541909 entries, 0 to 541908\n",
            "Data columns (total 8 columns):\n",
            "InvoiceNo      541909 non-null object\n",
            "StockCode      541909 non-null object\n",
            "Description    540455 non-null object\n",
            "Quantity       541909 non-null int64\n",
            "InvoiceDate    541909 non-null object\n",
            "UnitPrice      541909 non-null float64\n",
            "CustomerID     406829 non-null float64\n",
            "Country        541909 non-null object\n",
            "dtypes: float64(2), int64(1), object(5)\n",
            "memory usage: 33.1+ MB\n"
          ],
          "name": "stdout"
        }
      ]
    },
    {
      "cell_type": "markdown",
      "metadata": {
        "id": "wY6yv3UsPm0k",
        "colab_type": "text"
      },
      "source": [
        "### Step 2 - Cleaning the data\n",
        "\n",
        "Few of useful data cleaning functions:\n",
        "\n",
        "* `s.astype('category')` # This will convert the datatype of the series to float *Please note that \"s\" here is a Pandas Series\n",
        "\n",
        "* `s.replace(1,'one')` # This will replace all values equal to 1 with 'one'\n",
        "\n",
        "* `s.replace([1,3],['one','three'])` # This will replace all 1 with 'one' and 3 with 'three'\n",
        "\n",
        "* `data.rename(columns=lambda x: x + 1)` # Mass renaming of columns\n",
        "\n",
        "* `data.rename(columns={'oldname': 'new name'})` # Selective renaming\n",
        "\n",
        "* `data.set_index('column_one')` #  This will change the index\n",
        "\n",
        "* `data.rename(index=lambda x: x + 1)` # Mass renaming of index\n",
        "\n",
        "* `data.dropna()` # Remove missing values\n",
        "\n",
        "* `data.fillna(x)` #  This will replaces all null values with x\n",
        "\n",
        "* `s.fillna(s.mean())` # This will replace all null values with the mean (mean can be replaced with almost any function from the below section) :\n",
        "\n",
        "* `data.corr()` # This will return the correlation between columns in a DataFrame\n",
        "\n",
        "* `data.count()` # This will return the number of non-null values in each DataFrame column\n",
        "\n",
        "* `data.max()` # This will return the highest value in each column\n",
        "\n",
        "* `data.min()` # This will return the lowest value in each column\n",
        "\n",
        "* `data.median()` # This will return the median of each column\n",
        "\n",
        "* `data.std()` # This will returns the standard deviation of each column\n"
      ]
    },
    {
      "cell_type": "markdown",
      "metadata": {
        "id": "rcNsGWarPm06",
        "colab_type": "text"
      },
      "source": [
        "**Check for NaN values**"
      ]
    },
    {
      "cell_type": "code",
      "metadata": {
        "id": "TqLxHGy2Pm06",
        "colab_type": "code",
        "outputId": "f3b55903-81b0-4525-9b8c-4ac8b1d098bd",
        "colab": {
          "base_uri": "https://localhost:8080/",
          "height": 170
        }
      },
      "source": [
        "# Your code here\n",
        "pur.isna().sum()"
      ],
      "execution_count": 0,
      "outputs": [
        {
          "output_type": "execute_result",
          "data": {
            "text/plain": [
              "InvoiceNo           0\n",
              "StockCode           0\n",
              "Description      1454\n",
              "Quantity            0\n",
              "InvoiceDate         0\n",
              "UnitPrice           0\n",
              "CustomerID     135080\n",
              "Country             0\n",
              "dtype: int64"
            ]
          },
          "metadata": {
            "tags": []
          },
          "execution_count": 11
        }
      ]
    },
    {
      "cell_type": "markdown",
      "metadata": {
        "id": "RdhPk_x1Pm0-",
        "colab_type": "text"
      },
      "source": [
        "**Examine few examples of NaN values**"
      ]
    },
    {
      "cell_type": "code",
      "metadata": {
        "id": "3kGYpbdOPm0-",
        "colab_type": "code",
        "colab": {}
      },
      "source": [
        "# List all NaN values\n",
        "\n",
        "#All values with 'CustomerId' = 'NaN'\n",
        "nanValuesOfCustomerID = pur[pur['CustomerID'].isna()]\n",
        "\n",
        "#All values with 'Description' = 'NaN'\n",
        "nanValuesOfDescription = pur[pur['Description'].isna()]\n"
      ],
      "execution_count": 0,
      "outputs": []
    },
    {
      "cell_type": "markdown",
      "metadata": {
        "id": "OpAhltPeHaLR",
        "colab_type": "text"
      },
      "source": [
        "**Exclude negative Quatity entries**"
      ]
    },
    {
      "cell_type": "code",
      "metadata": {
        "id": "71F-5PY-HZ6T",
        "colab_type": "code",
        "colab": {}
      },
      "source": [
        "negativeQuantity = pur[pur['Quantity']<0]"
      ],
      "execution_count": 0,
      "outputs": []
    },
    {
      "cell_type": "markdown",
      "metadata": {
        "id": "s5idc5z2H1zJ",
        "colab_type": "text"
      },
      "source": [
        "**Exclude negative Price entries**"
      ]
    },
    {
      "cell_type": "code",
      "metadata": {
        "id": "_8OdtEVFH1fr",
        "colab_type": "code",
        "outputId": "c334b8aa-f5b7-4599-ca59-3291e61d5feb",
        "colab": {
          "base_uri": "https://localhost:8080/",
          "height": 111
        }
      },
      "source": [
        " pur[pur['UnitPrice']<0]"
      ],
      "execution_count": 0,
      "outputs": [
        {
          "output_type": "execute_result",
          "data": {
            "text/html": [
              "<div>\n",
              "<style scoped>\n",
              "    .dataframe tbody tr th:only-of-type {\n",
              "        vertical-align: middle;\n",
              "    }\n",
              "\n",
              "    .dataframe tbody tr th {\n",
              "        vertical-align: top;\n",
              "    }\n",
              "\n",
              "    .dataframe thead th {\n",
              "        text-align: right;\n",
              "    }\n",
              "</style>\n",
              "<table border=\"1\" class=\"dataframe\">\n",
              "  <thead>\n",
              "    <tr style=\"text-align: right;\">\n",
              "      <th></th>\n",
              "      <th>InvoiceNo</th>\n",
              "      <th>StockCode</th>\n",
              "      <th>Description</th>\n",
              "      <th>Quantity</th>\n",
              "      <th>InvoiceDate</th>\n",
              "      <th>UnitPrice</th>\n",
              "      <th>CustomerID</th>\n",
              "      <th>Country</th>\n",
              "    </tr>\n",
              "  </thead>\n",
              "  <tbody>\n",
              "    <tr>\n",
              "      <th>299983</th>\n",
              "      <td>A563186</td>\n",
              "      <td>B</td>\n",
              "      <td>Adjust bad debt</td>\n",
              "      <td>1</td>\n",
              "      <td>8/12/11 14:51</td>\n",
              "      <td>-11062.06</td>\n",
              "      <td>NaN</td>\n",
              "      <td>United Kingdom</td>\n",
              "    </tr>\n",
              "    <tr>\n",
              "      <th>299984</th>\n",
              "      <td>A563187</td>\n",
              "      <td>B</td>\n",
              "      <td>Adjust bad debt</td>\n",
              "      <td>1</td>\n",
              "      <td>8/12/11 14:52</td>\n",
              "      <td>-11062.06</td>\n",
              "      <td>NaN</td>\n",
              "      <td>United Kingdom</td>\n",
              "    </tr>\n",
              "  </tbody>\n",
              "</table>\n",
              "</div>"
            ],
            "text/plain": [
              "       InvoiceNo StockCode  ... CustomerID         Country\n",
              "299983   A563186         B  ...        NaN  United Kingdom\n",
              "299984   A563187         B  ...        NaN  United Kingdom\n",
              "\n",
              "[2 rows x 8 columns]"
            ]
          },
          "metadata": {
            "tags": []
          },
          "execution_count": 19
        }
      ]
    },
    {
      "cell_type": "markdown",
      "metadata": {
        "id": "Ikd1t-v3Pm17",
        "colab_type": "text"
      },
      "source": [
        "### Step 3 - EDA"
      ]
    },
    {
      "cell_type": "markdown",
      "metadata": {
        "id": "-T3iojz1If_r",
        "colab_type": "text"
      },
      "source": [
        "**The customer with the highest number of orders comes from the United Kingdom (UK)**"
      ]
    },
    {
      "cell_type": "code",
      "metadata": {
        "id": "qIUoWtlPIhxJ",
        "colab_type": "code",
        "outputId": "d785b82a-dc1f-4a5e-f8b6-90803aedb991",
        "colab": {
          "base_uri": "https://localhost:8080/",
          "height": 34
        }
      },
      "source": [
        "# Your code here\n",
        "\n",
        "print('The customer with the highest number of orders comes from the United Kingdom (UK) has Id:',\n",
        "      pur[pur['Country']=='United Kingdom'].mode().iloc[0].CustomerID) "
      ],
      "execution_count": 0,
      "outputs": [
        {
          "output_type": "stream",
          "text": [
            "The customer with the highest number of orders comes from the United Kingdom (UK) has Id: 17841.0\n"
          ],
          "name": "stdout"
        }
      ]
    },
    {
      "cell_type": "markdown",
      "metadata": {
        "id": "9yUfXWelIiTg",
        "colab_type": "text"
      },
      "source": [
        "**The customer with the highest money spent on purchases comes from Netherlands**"
      ]
    },
    {
      "cell_type": "code",
      "metadata": {
        "id": "qCN_rIThJDRj",
        "colab_type": "code",
        "outputId": "59fd84c3-1552-4048-867e-08b1d478db28",
        "colab": {
          "base_uri": "https://localhost:8080/",
          "height": 111
        }
      },
      "source": [
        "#Filter purchases comes from Netherlands\n",
        "invoicesFormNetherlands = pur[pur['Country']=='Netherlands']\n",
        "\n",
        "#Sum Quantity and UnitPrice for each customer from Netherlands\n",
        "groupByCustomerID = invoicesFormNetherlands.groupby(['CustomerID']).sum()\n",
        "\n",
        "#Sort in decreasing order and get first row \n",
        "sortByUnitPrice = groupByCustomerID.sort_values('UnitPrice', ascending=False).head(1)\n",
        "\n",
        "#The first row represents the customer spent the most on purchases comes from Netherlands\n",
        "sortByUnitPrice"
      ],
      "execution_count": 0,
      "outputs": [
        {
          "output_type": "execute_result",
          "data": {
            "text/html": [
              "<div>\n",
              "<style scoped>\n",
              "    .dataframe tbody tr th:only-of-type {\n",
              "        vertical-align: middle;\n",
              "    }\n",
              "\n",
              "    .dataframe tbody tr th {\n",
              "        vertical-align: top;\n",
              "    }\n",
              "\n",
              "    .dataframe thead th {\n",
              "        text-align: right;\n",
              "    }\n",
              "</style>\n",
              "<table border=\"1\" class=\"dataframe\">\n",
              "  <thead>\n",
              "    <tr style=\"text-align: right;\">\n",
              "      <th></th>\n",
              "      <th>Quantity</th>\n",
              "      <th>UnitPrice</th>\n",
              "    </tr>\n",
              "    <tr>\n",
              "      <th>CustomerID</th>\n",
              "      <th></th>\n",
              "      <th></th>\n",
              "    </tr>\n",
              "  </thead>\n",
              "  <tbody>\n",
              "    <tr>\n",
              "      <th>14646.0</th>\n",
              "      <td>196719</td>\n",
              "      <td>5400.21</td>\n",
              "    </tr>\n",
              "  </tbody>\n",
              "</table>\n",
              "</div>"
            ],
            "text/plain": [
              "            Quantity  UnitPrice\n",
              "CustomerID                     \n",
              "14646.0       196719    5400.21"
            ]
          },
          "metadata": {
            "tags": []
          },
          "execution_count": 108
        }
      ]
    },
    {
      "cell_type": "markdown",
      "metadata": {
        "id": "UcCxS85hIwLb",
        "colab_type": "text"
      },
      "source": [
        "**On which year had the highest sales?**"
      ]
    },
    {
      "cell_type": "code",
      "metadata": {
        "id": "i-7RsisUI_gc",
        "colab_type": "code",
        "colab": {}
      },
      "source": [
        "# Create Year column\n",
        "pur['Year'] = pd.to_datetime(pur['InvoiceDate']).dt.strftime('%Y')"
      ],
      "execution_count": 0,
      "outputs": []
    },
    {
      "cell_type": "code",
      "metadata": {
        "id": "IY_pOkxGy3x1",
        "colab_type": "code",
        "colab": {
          "base_uri": "https://localhost:8080/",
          "height": 204
        },
        "outputId": "12be76e8-d380-4cbd-c5fd-252f4f5760e2"
      },
      "source": [
        "# Show first 5 rows in new data\n",
        "pur.head()"
      ],
      "execution_count": 10,
      "outputs": [
        {
          "output_type": "execute_result",
          "data": {
            "text/html": [
              "<div>\n",
              "<style scoped>\n",
              "    .dataframe tbody tr th:only-of-type {\n",
              "        vertical-align: middle;\n",
              "    }\n",
              "\n",
              "    .dataframe tbody tr th {\n",
              "        vertical-align: top;\n",
              "    }\n",
              "\n",
              "    .dataframe thead th {\n",
              "        text-align: right;\n",
              "    }\n",
              "</style>\n",
              "<table border=\"1\" class=\"dataframe\">\n",
              "  <thead>\n",
              "    <tr style=\"text-align: right;\">\n",
              "      <th></th>\n",
              "      <th>InvoiceNo</th>\n",
              "      <th>StockCode</th>\n",
              "      <th>Description</th>\n",
              "      <th>Quantity</th>\n",
              "      <th>InvoiceDate</th>\n",
              "      <th>UnitPrice</th>\n",
              "      <th>CustomerID</th>\n",
              "      <th>Country</th>\n",
              "      <th>Year</th>\n",
              "    </tr>\n",
              "  </thead>\n",
              "  <tbody>\n",
              "    <tr>\n",
              "      <th>0</th>\n",
              "      <td>536365</td>\n",
              "      <td>85123A</td>\n",
              "      <td>WHITE HANGING HEART T-LIGHT HOLDER</td>\n",
              "      <td>6</td>\n",
              "      <td>12/1/10 8:26</td>\n",
              "      <td>2.55</td>\n",
              "      <td>17850.0</td>\n",
              "      <td>United Kingdom</td>\n",
              "      <td>2010</td>\n",
              "    </tr>\n",
              "    <tr>\n",
              "      <th>1</th>\n",
              "      <td>536365</td>\n",
              "      <td>71053</td>\n",
              "      <td>WHITE METAL LANTERN</td>\n",
              "      <td>6</td>\n",
              "      <td>12/1/10 8:26</td>\n",
              "      <td>3.39</td>\n",
              "      <td>17850.0</td>\n",
              "      <td>United Kingdom</td>\n",
              "      <td>2010</td>\n",
              "    </tr>\n",
              "    <tr>\n",
              "      <th>2</th>\n",
              "      <td>536365</td>\n",
              "      <td>84406B</td>\n",
              "      <td>CREAM CUPID HEARTS COAT HANGER</td>\n",
              "      <td>8</td>\n",
              "      <td>12/1/10 8:26</td>\n",
              "      <td>2.75</td>\n",
              "      <td>17850.0</td>\n",
              "      <td>United Kingdom</td>\n",
              "      <td>2010</td>\n",
              "    </tr>\n",
              "    <tr>\n",
              "      <th>3</th>\n",
              "      <td>536365</td>\n",
              "      <td>84029G</td>\n",
              "      <td>KNITTED UNION FLAG HOT WATER BOTTLE</td>\n",
              "      <td>6</td>\n",
              "      <td>12/1/10 8:26</td>\n",
              "      <td>3.39</td>\n",
              "      <td>17850.0</td>\n",
              "      <td>United Kingdom</td>\n",
              "      <td>2010</td>\n",
              "    </tr>\n",
              "    <tr>\n",
              "      <th>4</th>\n",
              "      <td>536365</td>\n",
              "      <td>84029E</td>\n",
              "      <td>RED WOOLLY HOTTIE WHITE HEART.</td>\n",
              "      <td>6</td>\n",
              "      <td>12/1/10 8:26</td>\n",
              "      <td>3.39</td>\n",
              "      <td>17850.0</td>\n",
              "      <td>United Kingdom</td>\n",
              "      <td>2010</td>\n",
              "    </tr>\n",
              "  </tbody>\n",
              "</table>\n",
              "</div>"
            ],
            "text/plain": [
              "  InvoiceNo StockCode  ...         Country  Year\n",
              "0    536365    85123A  ...  United Kingdom  2010\n",
              "1    536365     71053  ...  United Kingdom  2010\n",
              "2    536365    84406B  ...  United Kingdom  2010\n",
              "3    536365    84029G  ...  United Kingdom  2010\n",
              "4    536365    84029E  ...  United Kingdom  2010\n",
              "\n",
              "[5 rows x 9 columns]"
            ]
          },
          "metadata": {
            "tags": []
          },
          "execution_count": 10
        }
      ]
    },
    {
      "cell_type": "code",
      "metadata": {
        "id": "GSn7Mu9hy9Rx",
        "colab_type": "code",
        "colab": {}
      },
      "source": [
        "# Get list of unique year\n",
        "yearList = np.unique(pur[\"Year\"])"
      ],
      "execution_count": 0,
      "outputs": []
    },
    {
      "cell_type": "code",
      "metadata": {
        "id": "lQQeDmWyzyVT",
        "colab_type": "code",
        "colab": {
          "base_uri": "https://localhost:8080/",
          "height": 85
        },
        "outputId": "fcfa9e48-e4cb-4077-84a7-c770a9d88fc1"
      },
      "source": [
        "#Find lastestSale and yearHaslargestSale\n",
        "largestSale = 0\n",
        "yearHaslargestSale = 0\n",
        "\n",
        "for year in yearList:\n",
        "  sumPrice = pur[pur['Year']==year].UnitPrice.sum()\n",
        "  print(\"Sale in\", year, \"is: \", sumPrice)\n",
        "  if (sumPrice>largestSale):\n",
        "      largestSale = sumPrice\n",
        "      yearHaslargestSale = year\n",
        "  \n",
        "\n",
        "print(\"Year has the highest sales: \", yearHaslargestSale)\n",
        "print(\"Amount of sales in that year:\", largestSale)"
      ],
      "execution_count": 32,
      "outputs": [
        {
          "output_type": "stream",
          "text": [
            "Sale in 2010 is:  260520.85000000003\n",
            "Sale in 2011 is:  2238283.124\n",
            "Year has the highest sales:  2011\n",
            "Amount of sales in that year: 2238283.124\n"
          ],
          "name": "stdout"
        }
      ]
    },
    {
      "cell_type": "markdown",
      "metadata": {
        "id": "W-IKvzruKHXb",
        "colab_type": "text"
      },
      "source": [
        "**How many orders (per hour)?**"
      ]
    },
    {
      "cell_type": "code",
      "metadata": {
        "id": "RHS5ridWKQ4u",
        "colab_type": "code",
        "colab": {}
      },
      "source": [
        "pur['Hour'] = pd.to_datetime(pur['InvoiceDate']).dt.strftime('%H')"
      ],
      "execution_count": 0,
      "outputs": []
    },
    {
      "cell_type": "code",
      "metadata": {
        "id": "PeCmwpuN_Jwy",
        "colab_type": "code",
        "colab": {
          "base_uri": "https://localhost:8080/",
          "height": 204
        },
        "outputId": "85bbb217-9606-4115-901d-eab020ad427b"
      },
      "source": [
        "pur.head()"
      ],
      "execution_count": 63,
      "outputs": [
        {
          "output_type": "execute_result",
          "data": {
            "text/html": [
              "<div>\n",
              "<style scoped>\n",
              "    .dataframe tbody tr th:only-of-type {\n",
              "        vertical-align: middle;\n",
              "    }\n",
              "\n",
              "    .dataframe tbody tr th {\n",
              "        vertical-align: top;\n",
              "    }\n",
              "\n",
              "    .dataframe thead th {\n",
              "        text-align: right;\n",
              "    }\n",
              "</style>\n",
              "<table border=\"1\" class=\"dataframe\">\n",
              "  <thead>\n",
              "    <tr style=\"text-align: right;\">\n",
              "      <th></th>\n",
              "      <th>InvoiceNo</th>\n",
              "      <th>StockCode</th>\n",
              "      <th>Description</th>\n",
              "      <th>Quantity</th>\n",
              "      <th>InvoiceDate</th>\n",
              "      <th>UnitPrice</th>\n",
              "      <th>CustomerID</th>\n",
              "      <th>Country</th>\n",
              "      <th>Month</th>\n",
              "      <th>Hour</th>\n",
              "    </tr>\n",
              "  </thead>\n",
              "  <tbody>\n",
              "    <tr>\n",
              "      <th>0</th>\n",
              "      <td>536365</td>\n",
              "      <td>85123A</td>\n",
              "      <td>WHITE HANGING HEART T-LIGHT HOLDER</td>\n",
              "      <td>6</td>\n",
              "      <td>12/1/10 8:26</td>\n",
              "      <td>2.55</td>\n",
              "      <td>17850.0</td>\n",
              "      <td>United Kingdom</td>\n",
              "      <td>12</td>\n",
              "      <td>08</td>\n",
              "    </tr>\n",
              "    <tr>\n",
              "      <th>1</th>\n",
              "      <td>536365</td>\n",
              "      <td>71053</td>\n",
              "      <td>WHITE METAL LANTERN</td>\n",
              "      <td>6</td>\n",
              "      <td>12/1/10 8:26</td>\n",
              "      <td>3.39</td>\n",
              "      <td>17850.0</td>\n",
              "      <td>United Kingdom</td>\n",
              "      <td>12</td>\n",
              "      <td>08</td>\n",
              "    </tr>\n",
              "    <tr>\n",
              "      <th>2</th>\n",
              "      <td>536365</td>\n",
              "      <td>84406B</td>\n",
              "      <td>CREAM CUPID HEARTS COAT HANGER</td>\n",
              "      <td>8</td>\n",
              "      <td>12/1/10 8:26</td>\n",
              "      <td>2.75</td>\n",
              "      <td>17850.0</td>\n",
              "      <td>United Kingdom</td>\n",
              "      <td>12</td>\n",
              "      <td>08</td>\n",
              "    </tr>\n",
              "    <tr>\n",
              "      <th>3</th>\n",
              "      <td>536365</td>\n",
              "      <td>84029G</td>\n",
              "      <td>KNITTED UNION FLAG HOT WATER BOTTLE</td>\n",
              "      <td>6</td>\n",
              "      <td>12/1/10 8:26</td>\n",
              "      <td>3.39</td>\n",
              "      <td>17850.0</td>\n",
              "      <td>United Kingdom</td>\n",
              "      <td>12</td>\n",
              "      <td>08</td>\n",
              "    </tr>\n",
              "    <tr>\n",
              "      <th>4</th>\n",
              "      <td>536365</td>\n",
              "      <td>84029E</td>\n",
              "      <td>RED WOOLLY HOTTIE WHITE HEART.</td>\n",
              "      <td>6</td>\n",
              "      <td>12/1/10 8:26</td>\n",
              "      <td>3.39</td>\n",
              "      <td>17850.0</td>\n",
              "      <td>United Kingdom</td>\n",
              "      <td>12</td>\n",
              "      <td>08</td>\n",
              "    </tr>\n",
              "  </tbody>\n",
              "</table>\n",
              "</div>"
            ],
            "text/plain": [
              "  InvoiceNo StockCode  ... Month  Hour\n",
              "0    536365    85123A  ...    12    08\n",
              "1    536365     71053  ...    12    08\n",
              "2    536365    84406B  ...    12    08\n",
              "3    536365    84029G  ...    12    08\n",
              "4    536365    84029E  ...    12    08\n",
              "\n",
              "[5 rows x 10 columns]"
            ]
          },
          "metadata": {
            "tags": []
          },
          "execution_count": 63
        }
      ]
    },
    {
      "cell_type": "code",
      "metadata": {
        "id": "UbwBnwH8_MOg",
        "colab_type": "code",
        "colab": {}
      },
      "source": [
        "ordersPerHour = pur.Hour.value_counts()"
      ],
      "execution_count": 0,
      "outputs": []
    },
    {
      "cell_type": "code",
      "metadata": {
        "id": "XFH5A3PQ_Qfw",
        "colab_type": "code",
        "colab": {
          "base_uri": "https://localhost:8080/",
          "height": 289
        },
        "outputId": "85323282-7653-4e57-929c-21adb6a0433e"
      },
      "source": [
        "# Show orders per hour\n",
        "ordersPerHour"
      ],
      "execution_count": 65,
      "outputs": [
        {
          "output_type": "execute_result",
          "data": {
            "text/plain": [
              "12    78709\n",
              "15    77519\n",
              "13    72259\n",
              "14    67471\n",
              "11    57674\n",
              "16    54516\n",
              "10    49037\n",
              "09    34332\n",
              "17    28509\n",
              "08     8909\n",
              "18     7974\n",
              "19     3705\n",
              "20      871\n",
              "07      383\n",
              "06       41\n",
              "Name: Hour, dtype: int64"
            ]
          },
          "metadata": {
            "tags": []
          },
          "execution_count": 65
        }
      ]
    },
    {
      "cell_type": "markdown",
      "metadata": {
        "id": "dqCZUmx0KKfS",
        "colab_type": "text"
      },
      "source": [
        "**Make a plot about number of orders per hour**"
      ]
    },
    {
      "cell_type": "code",
      "metadata": {
        "id": "-KPgD51AKKE6",
        "colab_type": "code",
        "colab": {
          "base_uri": "https://localhost:8080/",
          "height": 289
        },
        "outputId": "34ddecb2-43d1-4280-a2a9-8915e1050d52"
      },
      "source": [
        "ordersPerHour.plot(kind='bar')"
      ],
      "execution_count": 67,
      "outputs": [
        {
          "output_type": "execute_result",
          "data": {
            "text/plain": [
              "<matplotlib.axes._subplots.AxesSubplot at 0x7fdfd638b080>"
            ]
          },
          "metadata": {
            "tags": []
          },
          "execution_count": 67
        },
        {
          "output_type": "display_data",
          "data": {
            "image/png": "[encoded data removed]",
            "text/plain": [
              "<Figure size 432x288 with 1 Axes>"
            ]
          },
          "metadata": {
            "tags": []
          }
        }
      ]
    },
    {
      "cell_type": "markdown",
      "metadata": {
        "colab_type": "text",
        "id": "-8ZwTvS6L0vS"
      },
      "source": [
        "**How many orders (per month)?**"
      ]
    },
    {
      "cell_type": "code",
      "metadata": {
        "colab_type": "code",
        "id": "NeOp_6a3L0vX",
        "colab": {}
      },
      "source": [
        "#Create a new column name: Month\n",
        "pur['Month'] = pd.to_datetime(pur['InvoiceDate']).dt.strftime('%m')"
      ],
      "execution_count": 0,
      "outputs": []
    },
    {
      "cell_type": "code",
      "metadata": {
        "id": "HLsUpZ8148RZ",
        "colab_type": "code",
        "colab": {
          "base_uri": "https://localhost:8080/",
          "height": 204
        },
        "outputId": "44d2cf35-3c81-4fd1-a812-35714f4a02c9"
      },
      "source": [
        "pur.head()"
      ],
      "execution_count": 58,
      "outputs": [
        {
          "output_type": "execute_result",
          "data": {
            "text/html": [
              "<div>\n",
              "<style scoped>\n",
              "    .dataframe tbody tr th:only-of-type {\n",
              "        vertical-align: middle;\n",
              "    }\n",
              "\n",
              "    .dataframe tbody tr th {\n",
              "        vertical-align: top;\n",
              "    }\n",
              "\n",
              "    .dataframe thead th {\n",
              "        text-align: right;\n",
              "    }\n",
              "</style>\n",
              "<table border=\"1\" class=\"dataframe\">\n",
              "  <thead>\n",
              "    <tr style=\"text-align: right;\">\n",
              "      <th></th>\n",
              "      <th>InvoiceNo</th>\n",
              "      <th>StockCode</th>\n",
              "      <th>Description</th>\n",
              "      <th>Quantity</th>\n",
              "      <th>InvoiceDate</th>\n",
              "      <th>UnitPrice</th>\n",
              "      <th>CustomerID</th>\n",
              "      <th>Country</th>\n",
              "      <th>Month</th>\n",
              "    </tr>\n",
              "  </thead>\n",
              "  <tbody>\n",
              "    <tr>\n",
              "      <th>0</th>\n",
              "      <td>536365</td>\n",
              "      <td>85123A</td>\n",
              "      <td>WHITE HANGING HEART T-LIGHT HOLDER</td>\n",
              "      <td>6</td>\n",
              "      <td>12/1/10 8:26</td>\n",
              "      <td>2.55</td>\n",
              "      <td>17850.0</td>\n",
              "      <td>United Kingdom</td>\n",
              "      <td>12</td>\n",
              "    </tr>\n",
              "    <tr>\n",
              "      <th>1</th>\n",
              "      <td>536365</td>\n",
              "      <td>71053</td>\n",
              "      <td>WHITE METAL LANTERN</td>\n",
              "      <td>6</td>\n",
              "      <td>12/1/10 8:26</td>\n",
              "      <td>3.39</td>\n",
              "      <td>17850.0</td>\n",
              "      <td>United Kingdom</td>\n",
              "      <td>12</td>\n",
              "    </tr>\n",
              "    <tr>\n",
              "      <th>2</th>\n",
              "      <td>536365</td>\n",
              "      <td>84406B</td>\n",
              "      <td>CREAM CUPID HEARTS COAT HANGER</td>\n",
              "      <td>8</td>\n",
              "      <td>12/1/10 8:26</td>\n",
              "      <td>2.75</td>\n",
              "      <td>17850.0</td>\n",
              "      <td>United Kingdom</td>\n",
              "      <td>12</td>\n",
              "    </tr>\n",
              "    <tr>\n",
              "      <th>3</th>\n",
              "      <td>536365</td>\n",
              "      <td>84029G</td>\n",
              "      <td>KNITTED UNION FLAG HOT WATER BOTTLE</td>\n",
              "      <td>6</td>\n",
              "      <td>12/1/10 8:26</td>\n",
              "      <td>3.39</td>\n",
              "      <td>17850.0</td>\n",
              "      <td>United Kingdom</td>\n",
              "      <td>12</td>\n",
              "    </tr>\n",
              "    <tr>\n",
              "      <th>4</th>\n",
              "      <td>536365</td>\n",
              "      <td>84029E</td>\n",
              "      <td>RED WOOLLY HOTTIE WHITE HEART.</td>\n",
              "      <td>6</td>\n",
              "      <td>12/1/10 8:26</td>\n",
              "      <td>3.39</td>\n",
              "      <td>17850.0</td>\n",
              "      <td>United Kingdom</td>\n",
              "      <td>12</td>\n",
              "    </tr>\n",
              "  </tbody>\n",
              "</table>\n",
              "</div>"
            ],
            "text/plain": [
              "  InvoiceNo StockCode  ...         Country  Month\n",
              "0    536365    85123A  ...  United Kingdom     12\n",
              "1    536365     71053  ...  United Kingdom     12\n",
              "2    536365    84406B  ...  United Kingdom     12\n",
              "3    536365    84029G  ...  United Kingdom     12\n",
              "4    536365    84029E  ...  United Kingdom     12\n",
              "\n",
              "[5 rows x 9 columns]"
            ]
          },
          "metadata": {
            "tags": []
          },
          "execution_count": 58
        }
      ]
    },
    {
      "cell_type": "code",
      "metadata": {
        "id": "c8rmxNyd4-AK",
        "colab_type": "code",
        "colab": {}
      },
      "source": [
        "ordersPerMonth = pur.Month.value_counts()"
      ],
      "execution_count": 0,
      "outputs": []
    },
    {
      "cell_type": "code",
      "metadata": {
        "id": "DJWgRCK94obl",
        "colab_type": "code",
        "colab": {
          "base_uri": "https://localhost:8080/",
          "height": 238
        },
        "outputId": "33772b31-7923-4a15-c9a4-c9a36a332758"
      },
      "source": [
        "ordersPerMonth"
      ],
      "execution_count": 61,
      "outputs": [
        {
          "output_type": "execute_result",
          "data": {
            "text/plain": [
              "11    84711\n",
              "12    68006\n",
              "10    60742\n",
              "09    50226\n",
              "07    39518\n",
              "05    37030\n",
              "06    36874\n",
              "03    36748\n",
              "08    35284\n",
              "01    35147\n",
              "04    29916\n",
              "02    27707\n",
              "Name: Month, dtype: int64"
            ]
          },
          "metadata": {
            "tags": []
          },
          "execution_count": 61
        }
      ]
    },
    {
      "cell_type": "markdown",
      "metadata": {
        "colab_type": "text",
        "id": "sOYrMUczL0vb"
      },
      "source": [
        "**Make a plot about number of orders per month**"
      ]
    },
    {
      "cell_type": "code",
      "metadata": {
        "id": "e7RJQ5MbL4cY",
        "colab_type": "code",
        "colab": {
          "base_uri": "https://localhost:8080/",
          "height": 289
        },
        "outputId": "479c334a-a4ab-4ab3-cf0c-495028d6a97f"
      },
      "source": [
        "pur.Month.value_counts().plot(kind='bar')\n",
        "# df.Country.value_counts().plot(kind='bar')"
      ],
      "execution_count": 66,
      "outputs": [
        {
          "output_type": "execute_result",
          "data": {
            "text/plain": [
              "<matplotlib.axes._subplots.AxesSubplot at 0x7fdfd5da2ef0>"
            ]
          },
          "metadata": {
            "tags": []
          },
          "execution_count": 66
        },
        {
          "output_type": "display_data",
          "data": {
            "image/png": "[encoded data removed]",
            "text/plain": [
              "<Figure size 432x288 with 1 Axes>"
            ]
          },
          "metadata": {
            "tags": []
          }
        }
      ]
    },
    {
      "cell_type": "markdown",
      "metadata": {
        "id": "E3eeyQeBLd6e",
        "colab_type": "text"
      },
      "source": [
        "**Top 10 items most sales**"
      ]
    },
    {
      "cell_type": "code",
      "metadata": {
        "id": "4trjB9ZjLhEv",
        "colab_type": "code",
        "colab": {
          "base_uri": "https://localhost:8080/",
          "height": 204
        },
        "outputId": "9e3ec784-ec15-47a0-b44e-079a3bf4b6f6"
      },
      "source": [
        "pur.Description.value_counts()[:10]"
      ],
      "execution_count": 53,
      "outputs": [
        {
          "output_type": "execute_result",
          "data": {
            "text/plain": [
              "WHITE HANGING HEART T-LIGHT HOLDER    2369\n",
              "REGENCY CAKESTAND 3 TIER              2200\n",
              "JUMBO BAG RED RETROSPOT               2159\n",
              "PARTY BUNTING                         1727\n",
              "LUNCH BAG RED RETROSPOT               1638\n",
              "ASSORTED COLOUR BIRD ORNAMENT         1501\n",
              "SET OF 3 CAKE TINS PANTRY DESIGN      1473\n",
              "PACK OF 72 RETROSPOT CAKE CASES       1385\n",
              "LUNCH BAG  BLACK SKULL.               1350\n",
              "NATURAL SLATE HEART CHALKBOARD        1280\n",
              "Name: Description, dtype: int64"
            ]
          },
          "metadata": {
            "tags": []
          },
          "execution_count": 53
        }
      ]
    },
    {
      "cell_type": "markdown",
      "metadata": {
        "id": "-dEBLw1uPm1-",
        "colab_type": "text"
      },
      "source": [
        "**Create a histogram with the 10 countries that have the most 'Quantity' ordered except UK**"
      ]
    },
    {
      "cell_type": "code",
      "metadata": {
        "id": "_N-UF331Pm1-",
        "colab_type": "code",
        "colab": {}
      },
      "source": [
        "# Your code here\n",
        "dataWithoutUK = pur[pur['Country'] != 'United Kingdom']"
      ],
      "execution_count": 0,
      "outputs": []
    },
    {
      "cell_type": "code",
      "metadata": {
        "id": "bsER3XJ769Kv",
        "colab_type": "code",
        "colab": {}
      },
      "source": [
        "# Number of quantity in each country in descreasing order\n",
        "sumByQuantity = dataWithoutUK.groupby('Country').sum().sort_values('Quantity', ascending=False)"
      ],
      "execution_count": 0,
      "outputs": []
    },
    {
      "cell_type": "code",
      "metadata": {
        "id": "kFc39OyX7H15",
        "colab_type": "code",
        "colab": {
          "base_uri": "https://localhost:8080/",
          "height": 390
        },
        "outputId": "ca24323c-f00c-4394-f564-09b806683e21"
      },
      "source": [
        "#Get 10 country has the most 'Quantity'\n",
        "sumByQuantity.head(10)"
      ],
      "execution_count": 51,
      "outputs": [
        {
          "output_type": "execute_result",
          "data": {
            "text/html": [
              "<div>\n",
              "<style scoped>\n",
              "    .dataframe tbody tr th:only-of-type {\n",
              "        vertical-align: middle;\n",
              "    }\n",
              "\n",
              "    .dataframe tbody tr th {\n",
              "        vertical-align: top;\n",
              "    }\n",
              "\n",
              "    .dataframe thead th {\n",
              "        text-align: right;\n",
              "    }\n",
              "</style>\n",
              "<table border=\"1\" class=\"dataframe\">\n",
              "  <thead>\n",
              "    <tr style=\"text-align: right;\">\n",
              "      <th></th>\n",
              "      <th>Quantity</th>\n",
              "      <th>UnitPrice</th>\n",
              "      <th>CustomerID</th>\n",
              "    </tr>\n",
              "    <tr>\n",
              "      <th>Country</th>\n",
              "      <th></th>\n",
              "      <th></th>\n",
              "      <th></th>\n",
              "    </tr>\n",
              "  </thead>\n",
              "  <tbody>\n",
              "    <tr>\n",
              "      <th>Netherlands</th>\n",
              "      <td>200128</td>\n",
              "      <td>6492.55</td>\n",
              "      <td>34190538.0</td>\n",
              "    </tr>\n",
              "    <tr>\n",
              "      <th>EIRE</th>\n",
              "      <td>142637</td>\n",
              "      <td>48447.19</td>\n",
              "      <td>110391745.0</td>\n",
              "    </tr>\n",
              "    <tr>\n",
              "      <th>Germany</th>\n",
              "      <td>117448</td>\n",
              "      <td>37666.00</td>\n",
              "      <td>120075093.0</td>\n",
              "    </tr>\n",
              "    <tr>\n",
              "      <th>France</th>\n",
              "      <td>110480</td>\n",
              "      <td>43031.99</td>\n",
              "      <td>107648864.0</td>\n",
              "    </tr>\n",
              "    <tr>\n",
              "      <th>Australia</th>\n",
              "      <td>83653</td>\n",
              "      <td>4054.75</td>\n",
              "      <td>15693002.0</td>\n",
              "    </tr>\n",
              "    <tr>\n",
              "      <th>Sweden</th>\n",
              "      <td>35637</td>\n",
              "      <td>1806.83</td>\n",
              "      <td>6790083.0</td>\n",
              "    </tr>\n",
              "    <tr>\n",
              "      <th>Switzerland</th>\n",
              "      <td>30325</td>\n",
              "      <td>6813.69</td>\n",
              "      <td>23775916.0</td>\n",
              "    </tr>\n",
              "    <tr>\n",
              "      <th>Spain</th>\n",
              "      <td>26824</td>\n",
              "      <td>12633.45</td>\n",
              "      <td>32689291.0</td>\n",
              "    </tr>\n",
              "    <tr>\n",
              "      <th>Japan</th>\n",
              "      <td>25218</td>\n",
              "      <td>814.86</td>\n",
              "      <td>4567292.0</td>\n",
              "    </tr>\n",
              "    <tr>\n",
              "      <th>Belgium</th>\n",
              "      <td>23152</td>\n",
              "      <td>7540.13</td>\n",
              "      <td>25718288.0</td>\n",
              "    </tr>\n",
              "  </tbody>\n",
              "</table>\n",
              "</div>"
            ],
            "text/plain": [
              "             Quantity  UnitPrice   CustomerID\n",
              "Country                                      \n",
              "Netherlands    200128    6492.55   34190538.0\n",
              "EIRE           142637   48447.19  110391745.0\n",
              "Germany        117448   37666.00  120075093.0\n",
              "France         110480   43031.99  107648864.0\n",
              "Australia       83653    4054.75   15693002.0\n",
              "Sweden          35637    1806.83    6790083.0\n",
              "Switzerland     30325    6813.69   23775916.0\n",
              "Spain           26824   12633.45   32689291.0\n",
              "Japan           25218     814.86    4567292.0\n",
              "Belgium         23152    7540.13   25718288.0"
            ]
          },
          "metadata": {
            "tags": []
          },
          "execution_count": 51
        }
      ]
    },
    {
      "cell_type": "code",
      "metadata": {
        "id": "pMahIK_m_yZh",
        "colab_type": "code",
        "colab": {
          "base_uri": "https://localhost:8080/",
          "height": 286
        },
        "outputId": "c1d8dcac-d99c-4ef4-b997-7b76dfc99f99"
      },
      "source": [
        "sumByQuantity['Quantity'].plot(kind='hist')"
      ],
      "execution_count": 71,
      "outputs": [
        {
          "output_type": "execute_result",
          "data": {
            "text/plain": [
              "<matplotlib.axes._subplots.AxesSubplot at 0x7fdfd65114a8>"
            ]
          },
          "metadata": {
            "tags": []
          },
          "execution_count": 71
        },
        {
          "output_type": "display_data",
          "data": {
            "image/png": "[encoded data removed]",
            "text/plain": [
              "<Figure size 432x288 with 1 Axes>"
            ]
          },
          "metadata": {
            "tags": []
          }
        }
      ]
    },
    {
      "cell_type": "code",
      "metadata": {
        "id": "SjqJiTnW7zxC",
        "colab_type": "code",
        "colab": {}
      },
      "source": [
        "# What can you tell about this?\n",
        "\n",
        "# 1. Unitprice does not depend on number of quantity in each country\n",
        "# 2. United Kingdom has the largest number of quanity. \n",
        "# 3. The hour has the largest sale is 12. AM\n",
        "# 4. The month has the largest sale is November(11)\n",
        "# 5. Products have the most sales is 'WHITE HANGING HEART T-LIGHT HOLDER' and 'REGENCY CAKESTAND 3 TIER'\n",
        "\n"
      ],
      "execution_count": 0,
      "outputs": []
    },
    {
      "cell_type": "markdown",
      "metadata": {
        "id": "mQbDyMyl70nc",
        "colab_type": "text"
      },
      "source": [
        "\n",
        "\n"
      ]
    },
    {
      "cell_type": "markdown",
      "metadata": {
        "id": "MoBgPjDiwhdV",
        "colab_type": "text"
      },
      "source": [
        "### You are awesome!!"
      ]
    }
  ]
}