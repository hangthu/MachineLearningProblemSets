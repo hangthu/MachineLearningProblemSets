{
  "nbformat": 4,
  "nbformat_minor": 0,
  "metadata": {
    "colab": {
      "name": "Copy of DAwP_Assignment_1.ipynb",
      "provenance": []
    },
    "kernelspec": {
      "name": "python3",
      "display_name": "Python 3"
    }
  },
  "cells": [
    {
      "cell_type": "markdown",
      "metadata": {
        "id": "jjZG7BNlbWtO",
        "colab_type": "text"
      },
      "source": [
        "![](https://i.imgur.com/0AUxkXt.png)"
      ]
    },
    {
      "cell_type": "markdown",
      "metadata": {
        "id": "jbpQzyjqbflM",
        "colab_type": "text"
      },
      "source": [
        "# Assignment 1 - The Hacker Rank\n",
        "\n",
        "HackerRank is a place where programmers from all over the world come together to solve problems in a wide range of Computer Science domains.\n",
        "\n",
        "As you solve more challenges, you earn points and move up the HackerRank Leaderboard.\n",
        "\n",
        "Looking for a job at an awesome company? You can get hired by solving [challenges](https://www.hackerrank.com/jobs/search)!\n",
        "\n",
        "It's cool. Let's establish your knowledge and fight for glory!\n",
        "\n",
        "But before that let's make it clear that.."
      ]
    },
    {
      "cell_type": "markdown",
      "metadata": {
        "id": "-ndmD4naciAN",
        "colab_type": "text"
      },
      "source": [
        "## Note-taking is IMPORTANT\n",
        "\n",
        "Blog: [Why is note-taking important](https://nickblackbourn.com/blog/why-is-note-taking-important/)\n",
        "\n",
        "Note taking isn’t just important for college students, it’s a valuable life skill.\n",
        "\n",
        "Effective note taking helps you to remember information and aids your understanding of that information. \n",
        "\n",
        "**Notes boost your understanding**\n",
        "\n",
        "By making notes, you force yourself to construct a conceptual mental representation of the ideas you are grappling with. It is this process that helps you comprehend the subject matter you are working with.\n",
        "\n",
        "**Notes are a repository of your thinking**\n",
        "\n",
        "When you need to recall something that you came across a while ago, you can go over the main ideas by looking over your notes. This is why good, comprehensive notes are so useful; they are a catalogue of the best ideas you’ve encountered, and what you thought about them.\n",
        "\n",
        "etc.\n",
        "\n",
        "\n",
        "\n",
        "\n",
        "\n",
        "\n",
        "\n"
      ]
    },
    {
      "cell_type": "markdown",
      "metadata": {
        "id": "IGvKPsdVfX-F",
        "colab_type": "text"
      },
      "source": [
        "## Requirements\n",
        "\n",
        "Pick 10 challenges on HackerRank about SQL and 5 about Python in **easy** level:\n",
        "\n",
        "[HackerRank - Domain SQL](https://www.hackerrank.com/domains/sql?filters%5Bdifficulty%5D%5B%5D=easy&filters%5Bsubdomains%5D%5B%5D=select)\n",
        "\n",
        "[HackerRank - Domain Python](https://www.hackerrank.com/domains/python?filters%5Bdifficulty%5D%5B%5D=easy)\n",
        "\n",
        "For each challenge:\n",
        "\n",
        "* Create a markdown cell first that describes the challenge.\n",
        "* Solve the challenge on HackerRank and copy your solution to a code cell below\n",
        "* (Optional) A short description about how you came up with the solution would be awesome."
      ]
    },
    {
      "cell_type": "markdown",
      "metadata": {
        "id": "higGK1Y5iAea",
        "colab_type": "text"
      },
      "source": [
        "## Example"
      ]
    },
    {
      "cell_type": "markdown",
      "metadata": {
        "id": "D2yU2FYDi4tj",
        "colab_type": "text"
      },
      "source": [
        "### SQL"
      ]
    },
    {
      "cell_type": "markdown",
      "metadata": {
        "id": "gu4DDH7Ki77C",
        "colab_type": "text"
      },
      "source": [
        "\n",
        "#### Problem 1\n",
        "\n",
        "Query all columns for all American cities in **CITY** with populations larger than 100000. The CountryCode for America is USA.\n",
        "\n",
        "**Input Format**\n",
        "\n",
        "The **CITY** table is described as follows:\n",
        "\n",
        "| Field | Type |\n",
        "|:----:|:---:|\n",
        "| ID | NUMBER |\n",
        "| NAME | VARCHAR2(17) |\n",
        "| COUNTRYCODE | VARCHAR2(3) |\n",
        "| DISTRICT | VARCHAR2(20) |\n",
        "| POPULATION | NUMBER |"
      ]
    },
    {
      "cell_type": "code",
      "metadata": {
        "id": "hhAwMjyhbT1b",
        "colab_type": "code",
        "colab": {}
      },
      "source": [
        "# Solution\n",
        "SELECT * from city WHERE population>100000 AND countrycode='USA';"
      ],
      "execution_count": 0,
      "outputs": []
    },
    {
      "cell_type": "markdown",
      "metadata": {
        "id": "0AxyfiJijJ7T",
        "colab_type": "text"
      },
      "source": [
        "### Python"
      ]
    },
    {
      "cell_type": "markdown",
      "metadata": {
        "id": "PEW8LsB5jLqf",
        "colab_type": "text"
      },
      "source": [
        "#### Problem 1\n",
        "\n",
        "**Task** \n",
        "Given an integer, , perform the following conditional actions:\n",
        "\n",
        "* If `n` is odd, print *Weird*\n",
        "* If `n` is even and in the inclusive range of 2 to 5, print *Not Weird*\n",
        "* If `n` is even and in the inclusive range of 6 to 20, print *Weird*\n",
        "* If `n` is even and greater than 20, print *Not Weird*\n",
        "\n",
        "**Input Format**\n",
        "\n",
        "A single line containing a positive integer, .\n",
        "\n",
        "**Output Format**\n",
        "\n",
        "Print Weird if the number is weird; otherwise, print Not Weird."
      ]
    },
    {
      "cell_type": "code",
      "metadata": {
        "id": "JBOxgw0zjLC2",
        "colab_type": "code",
        "colab": {}
      },
      "source": [
        "n = int(input())\n",
        "\n",
        "if n % 2 == 1:\n",
        "    print('Weird')\n",
        "else:\n",
        "    if (n >= 2) and (n <= 5):\n",
        "        print('Not Weird')\n",
        "    elif (n >= 6) and (n <= 20):\n",
        "        print('Weird')\n",
        "    else:\n",
        "        print('Not Weird')"
      ],
      "execution_count": 0,
      "outputs": []
    },
    {
      "cell_type": "markdown",
      "metadata": {
        "id": "a-Q3VE7YkA9A",
        "colab_type": "text"
      },
      "source": [
        "## Your turn\n",
        "\n",
        "Good luck and have fun!"
      ]
    },
    {
      "cell_type": "markdown",
      "metadata": {
        "id": "ji97FXD1nAW7",
        "colab_type": "text"
      },
      "source": [
        "### SQL\n"
      ]
    },
    {
      "cell_type": "markdown",
      "metadata": {
        "id": "oj82r7ZmoCyG",
        "colab_type": "text"
      },
      "source": [
        "#### Problem 1\n",
        "\n",
        "Write a query that prints a list of employee names (i.e.: the name attribute) for employees in Employee having a salary greater than **$2000** per month who have been employees for less than **10** months. Sort your result by ascending employee_id.\n",
        "\n",
        "**Input Format**\n",
        "\n",
        "The **Employee** table containing employee data for a company is described as follows:\n",
        "\n",
        "\n",
        "| Field | Type |\n",
        "|:----:|:---:|\n",
        "| EMPLOYEE_ID | INTERGER |\n",
        "| NAME | STRING |\n",
        "| MONTH | INTERGER |\n",
        "| SALARY | INTERGER |\n",
        "\n",
        "\n",
        "where employee_id is an employee's ID number, name is their name, months is the total number of months they've been working for the company, and salary is the their monthly salary.\n",
        "\n",
        "\n"
      ]
    },
    {
      "cell_type": "code",
      "metadata": {
        "id": "316IqaEvptZv",
        "colab_type": "code",
        "colab": {}
      },
      "source": [
        "SELECT NAME FROM EMPLOYEE WHERE SALARY > 2000 AND MONTHS < 10 ORDER BY EMPLOYEE_ID ASC"
      ],
      "execution_count": 0,
      "outputs": []
    },
    {
      "cell_type": "markdown",
      "metadata": {
        "id": "zMzg1b5Lp7Da",
        "colab_type": "text"
      },
      "source": [
        "LINK: https://www.hackerrank.com/rest/contests/master/challenges/salary-of-employees/hackers/hang_ngo512/download_solution"
      ]
    },
    {
      "cell_type": "markdown",
      "metadata": {
        "id": "Bc2nNBGVrGsA",
        "colab_type": "text"
      },
      "source": [
        "#### Problem 2\n",
        "\n",
        "Query the list of CITY names from **STATION** that do not start with vowels and do not end with vowels. Your result cannot contain duplicates.\n",
        "\n",
        "**Input Format**\n",
        "\n",
        "The **STATION** table is described as follows:\n",
        "\n",
        "| Field | Type |\n",
        "|:----:|:---:|\n",
        "| ID | NUMBER |\n",
        "| CITY | STRING |\n",
        "| STATE | VARCHAR2(21) |\n",
        "| LAT_N | VARCHAR2(2) |\n",
        "| LONG_W | NUMBER |\n",
        "\n",
        "\n",
        "where LAT_N is the northern latitude and LONG_W is the western longitude."
      ]
    },
    {
      "cell_type": "code",
      "metadata": {
        "id": "DTSueEC7sApd",
        "colab_type": "code",
        "colab": {}
      },
      "source": [
        "SELECT CITY FROM STATION GROUP BY CITY HAVING LEFT(CITY, 1) NOT IN('U', 'E', 'O', 'A', 'I') AND RIGHT(CITY, 1) NOT IN('U', 'E', 'O', 'A', 'I') ;"
      ],
      "execution_count": 0,
      "outputs": []
    },
    {
      "cell_type": "markdown",
      "metadata": {
        "id": "c5j7HMpjsHMi",
        "colab_type": "text"
      },
      "source": [
        "LINK: https://www.hackerrank.com/rest/contests/master/challenges/weather-observation-station-12/hackers/hang_ngo512/download_solution"
      ]
    },
    {
      "cell_type": "markdown",
      "metadata": {
        "id": "xMuZg3JOsRX4",
        "colab_type": "text"
      },
      "source": [
        "#### Problem 3\n",
        "\n",
        "Query the Name of any student in STUDENTS who scored higher than  Marks. Order your output by the last three characters of each name. If two or more students both have names ending in the same last three characters (i.e.: Bobby, Robby, etc.), secondary sort them by ascending ID.\n",
        "\n",
        "**Input Format**\n",
        "\n",
        "The **STUDENTS** table is described as follows: \n",
        "\n",
        "\n",
        "| Field | Type |\n",
        "|:----:|:---:|\n",
        "| ID | INTERGER |\n",
        "| NAME | STRING |\n",
        "| MARKS | INTERGER |\n",
        "\n",
        "\n",
        "\n",
        "The Name column only contains uppercase (A-Z) and lowercase (a-z) letters."
      ]
    },
    {
      "cell_type": "code",
      "metadata": {
        "id": "udw6p20Gs9p5",
        "colab_type": "code",
        "colab": {}
      },
      "source": [
        "SELECT NAME FROM STUDENTS WHERE MARKS>75 ORDER BY RIGHT(NAME, 3), ID ASC;"
      ],
      "execution_count": 0,
      "outputs": []
    },
    {
      "cell_type": "markdown",
      "metadata": {
        "id": "RwT1h1lBtHqz",
        "colab_type": "text"
      },
      "source": [
        "LINK: https://www.hackerrank.com/rest/contests/master/challenges/more-than-75-marks/hackers/hang_ngo512/download_solution"
      ]
    },
    {
      "cell_type": "markdown",
      "metadata": {
        "id": "Q1yzIFatymXR",
        "colab_type": "text"
      },
      "source": [
        "#### Problem 4\n",
        "\n",
        "Query the sum of the populations for all Japanese cities in **CITY**. The COUNTRYCODE for Japan is **JPN**.\n",
        "\n",
        "**Input Format**\n",
        "\n",
        "The **CITY** table is described as follows:\n",
        "\n",
        "\n",
        "| Field | Type |\n",
        "|:----:|:---:|\n",
        "| ID | NUMBER |\n",
        "| NAME | VARCHAR2(17) |\n",
        "| COUNTRYCODE | VARCHAR2(3) |\n",
        "| DISTRICT | VARCHAR2(20) |\n",
        "| POPULATION | NUMBER |\n",
        "\n",
        "\n",
        " "
      ]
    },
    {
      "cell_type": "code",
      "metadata": {
        "id": "rGdIc5AbzNuG",
        "colab_type": "code",
        "colab": {}
      },
      "source": [
        "SELECT SUM(POPULATION) FROM CITY WHERE COUNTRYCODE='JPN'"
      ],
      "execution_count": 0,
      "outputs": []
    },
    {
      "cell_type": "markdown",
      "metadata": {
        "id": "0sRC2kVJzRCN",
        "colab_type": "text"
      },
      "source": [
        "LINK: https://www.hackerrank.com/rest/contests/master/challenges/japan-population/hackers/hang_ngo512/download_solution"
      ]
    },
    {
      "cell_type": "markdown",
      "metadata": {
        "id": "AxPJBzGtz5uC",
        "colab_type": "text"
      },
      "source": [
        "#### Problem 5\n",
        "\n",
        "Query the average population for all cities in **CITY**, rounded down to the nearest integer.\n",
        "\n",
        "**Input Format**\n",
        "\n",
        "The **CITY** table is described as follows:\n",
        "\n",
        "\n",
        "| Field | Type |\n",
        "|:----:|:---:|\n",
        "| ID | NUMBER |\n",
        "| NAME | VARCHAR2(17) |\n",
        "| COUNTRYCODE | VARCHAR2(3) |\n",
        "| DISTRICT | VARCHAR2(20) |\n",
        "| POPULATION | NUMBER |\n"
      ]
    },
    {
      "cell_type": "code",
      "metadata": {
        "id": "8pL-CsFR0D19",
        "colab_type": "code",
        "colab": {}
      },
      "source": [
        "SELECT ROUND(AVG(POPULATION)) FROM CITY "
      ],
      "execution_count": 0,
      "outputs": []
    },
    {
      "cell_type": "markdown",
      "metadata": {
        "id": "diODM_fd0HGu",
        "colab_type": "text"
      },
      "source": [
        "Link: https://www.hackerrank.com/rest/contests/master/challenges/average-population/hackers/hang_ngo512/download_solution"
      ]
    },
    {
      "cell_type": "markdown",
      "metadata": {
        "id": "_k2cruYB0OG6",
        "colab_type": "text"
      },
      "source": [
        "#### Problem 6\n",
        "\n",
        "Given the **CITY** and **COUNTRY** tables, query the names of all cities where the CONTINENT is 'Africa'.\n",
        "\n",
        "Note: CITY.CountryCode and COUNTRY.Code are matching key columns.\n",
        "\n",
        "**Input Format**\n",
        "\n",
        "The CITY table is described as follows: \n",
        "\n",
        "\n",
        "| Field | Type |\n",
        "|:----:|:---:|\n",
        "| ID | NUMBER |\n",
        "| NAME | VARCHAR2(17) |\n",
        "| COUNTRYCODE | VARCHAR2(3) |\n",
        "| DISTRICT | VARCHAR2(20) |\n",
        "| POPULATION | NUMBER |\n",
        "\n",
        "The COUNTRY table is described as follows:\n",
        "\n",
        "\n",
        "| Field | Type |\n",
        "|:----:|:---:|\n",
        "| CODE | VARCHAR2(3) |\n",
        "| NAME | VARCHAR2(44) |\n",
        "| CONTINENT | VARCHAR2(13) |\n",
        "| REGION | VARCHAR2(25) |\n",
        "| SURFACEAREA | NUMBER |\n",
        "| INDEPYEAR | VARCHAR2(5) |\n",
        "| POPULATION | NUMBER |\n",
        "| LIFEEXPECTANCY | VARCHAR2(4) |\n",
        "| GNP | NUMBER |\n",
        "| GNPOLD | VARCHAR2(9) |\n",
        "| LOCALNAME | VARCHAR2(44) |\n",
        "| GOVERMENTFORM | VARCHAR2(44) |\n",
        "| HEADOFSTATE | VARCHAR2(32) |\n",
        "| CAPITAL | VARCHAR2(4) |\n",
        "| CODE2 | VARCHAR2(2) |\n"
      ]
    },
    {
      "cell_type": "code",
      "metadata": {
        "id": "QiNokG-QGgLt",
        "colab_type": "code",
        "colab": {}
      },
      "source": [
        "SELECT CITY.NAME FROM CITY, COUNTRY WHERE CITY.COUNTRYCODE = COUNTRY.CODE AND COUNTRY.CONTINENT = 'Africa';"
      ],
      "execution_count": 0,
      "outputs": []
    },
    {
      "cell_type": "markdown",
      "metadata": {
        "id": "UaFPsYodGlmC",
        "colab_type": "text"
      },
      "source": [
        "LINK: https://www.hackerrank.com/rest/contests/master/challenges/african-cities/hackers/hang_ngo512/download_solution"
      ]
    },
    {
      "cell_type": "markdown",
      "metadata": {
        "id": "8IE6S5pjGzOi",
        "colab_type": "text"
      },
      "source": [
        "#### Problem 7\n",
        "\n",
        "Given the **CITY** and **COUNTRY** tables, query the names of all the continents (COUNTRY.Continent) and their respective average city populations (CITY.Population) rounded down to the nearest integer.\n",
        "\n",
        "Note: CITY.CountryCode and COUNTRY.Code are matching key columns.\n",
        "\n",
        "**Input Format**\n",
        "\n",
        "The CITY table is described as follows: \n",
        "\n",
        "\n",
        "| Field | Type |\n",
        "|:----:|:---:|\n",
        "| ID | NUMBER |\n",
        "| NAME | VARCHAR2(17) |\n",
        "| COUNTRYCODE | VARCHAR2(3) |\n",
        "| DISTRICT | VARCHAR2(20) |\n",
        "| POPULATION | NUMBER |\n",
        "\n",
        "The COUNTRY table is described as follows:\n",
        "\n",
        "\n",
        "| Field | Type |\n",
        "|:----:|:---:|\n",
        "| CODE | VARCHAR2(3) |\n",
        "| NAME | VARCHAR2(44) |\n",
        "| CONTINENT | VARCHAR2(13) |\n",
        "| REGION | VARCHAR2(25) |\n",
        "| SURFACEAREA | NUMBER |\n",
        "| INDEPYEAR | VARCHAR2(5) |\n",
        "| POPULATION | NUMBER |\n",
        "| LIFEEXPECTANCY | VARCHAR2(4) |\n",
        "| GNP | NUMBER |\n",
        "| GNPOLD | VARCHAR2(9) |\n",
        "| LOCALNAME | VARCHAR2(44) |\n",
        "| GOVERMENTFORM | VARCHAR2(44) |\n",
        "| HEADOFSTATE | VARCHAR2(32) |\n",
        "| CAPITAL | VARCHAR2(4) |\n",
        "| CODE2 | VARCHAR2(2) |\n"
      ]
    },
    {
      "cell_type": "code",
      "metadata": {
        "id": "98vdC1CVKERl",
        "colab_type": "code",
        "colab": {}
      },
      "source": [
        "SELECT COUNTRY.CONTINENT, ROUND(AVG(CITY.POPULATION)-0.5) FROM CITY, COUNTRY WHERE CITY.COUNTRYCODE = COUNTRY.CODE GROUP BY COUNTRY.CONTINENT"
      ],
      "execution_count": 0,
      "outputs": []
    },
    {
      "cell_type": "markdown",
      "metadata": {
        "id": "qKjxZ3p0KE1k",
        "colab_type": "text"
      },
      "source": [
        "LINK: https://www.hackerrank.com/rest/contests/master/challenges/average-population-of-each-continent/hackers/hang_ngo512/download_solution "
      ]
    },
    {
      "cell_type": "markdown",
      "metadata": {
        "id": "75mCZiOmKRm6",
        "colab_type": "text"
      },
      "source": [
        "#### Problem 8\n",
        "\n",
        "Given the **CITY** and **COUNTRY** tables, query the sum of the populations of all cities where the CONTINENT is 'Asia'.\n",
        "\n",
        "Note: CITY.CountryCode and COUNTRY.Code are matching key columns.\n",
        "\n",
        "**Input Format**\n",
        "\n",
        "The CITY table is described as follows: \n",
        "\n",
        "\n",
        "| Field | Type |\n",
        "|:----:|:---:|\n",
        "| ID | NUMBER |\n",
        "| NAME | VARCHAR2(17) |\n",
        "| COUNTRYCODE | VARCHAR2(3) |\n",
        "| DISTRICT | VARCHAR2(20) |\n",
        "| POPULATION | NUMBER |\n",
        "\n",
        "The COUNTRY table is described as follows:\n",
        "\n",
        "\n",
        "| Field | Type |\n",
        "|:----:|:---:|\n",
        "| CODE | VARCHAR2(3) |\n",
        "| NAME | VARCHAR2(44) |\n",
        "| CONTINENT | VARCHAR2(13) |\n",
        "| REGION | VARCHAR2(25) |\n",
        "| SURFACEAREA | NUMBER |\n",
        "| INDEPYEAR | VARCHAR2(5) |\n",
        "| POPULATION | NUMBER |\n",
        "| LIFEEXPECTANCY | VARCHAR2(4) |\n",
        "| GNP | NUMBER |\n",
        "| GNPOLD | VARCHAR2(9) |\n",
        "| LOCALNAME | VARCHAR2(44) |\n",
        "| GOVERMENTFORM | VARCHAR2(44) |\n",
        "| HEADOFSTATE | VARCHAR2(32) |\n",
        "| CAPITAL | VARCHAR2(4) |\n",
        "| CODE2 | VARCHAR2(2) |\n",
        "\n",
        "\n",
        "\n"
      ]
    },
    {
      "cell_type": "code",
      "metadata": {
        "id": "vs9cfbrdNau5",
        "colab_type": "code",
        "colab": {}
      },
      "source": [
        "SELECT SUM(CITY.POPULATION) FROM CITY, COUNTRY WHERE CITY.COUNTRYCODE = COUNTRY.CODE AND COUNTRY.CONTINENT = 'Asia'"
      ],
      "execution_count": 0,
      "outputs": []
    },
    {
      "cell_type": "markdown",
      "metadata": {
        "id": "sS8eLh8oN2pq",
        "colab_type": "text"
      },
      "source": [
        "Link: https://www.hackerrank.com/rest/contests/master/challenges/asian-population/hackers/hang_ngo512/download_solution"
      ]
    },
    {
      "cell_type": "markdown",
      "metadata": {
        "id": "PSZqDzbNQbTR",
        "colab_type": "text"
      },
      "source": [
        "#### Problem 9\n",
        "\n",
        "We define an employee's total earnings to be their monthly ***salary x months*** worked, and the maximum total earnings to be the maximum total earnings for any employee in the Employee table. Write a query to find the maximum total earnings for all employees as well as the total number of employees who have maximum total earnings. Then print these values as ***2*** space-separated integers.\n",
        "\n",
        "**Input Format**\n",
        "\n",
        "The **Employee** table containing employee data for a company is described as follows:\n",
        "\n",
        "| Field | Type |\n",
        "|:----:|:---:|\n",
        "| EMPLOYEE_ID | INTERGER |\n",
        "| NAME | STRING |\n",
        "| MONTHS | INTEGER |\n",
        "| SALARY | INTEGER |\n",
        "\n",
        "where employee_id is an employee's ID number, name is their name, months is the total number of months they've been working for the company, and salary is the their monthly salary."
      ]
    },
    {
      "cell_type": "code",
      "metadata": {
        "id": "kBTpnerJTeEz",
        "colab_type": "code",
        "colab": {}
      },
      "source": [
        "SELECT SALARY*MONTHS AS EARN, COUNT(*) FROM EMPLOYEE GROUP BY EARN ORDER BY EARN DESC LIMIT 1"
      ],
      "execution_count": 0,
      "outputs": []
    },
    {
      "cell_type": "markdown",
      "metadata": {
        "id": "P_JxCdqLTgqP",
        "colab_type": "text"
      },
      "source": [
        "LINK: https://www.hackerrank.com/rest/contests/master/challenges/earnings-of-employees/hackers/hang_ngo512/download_solution"
      ]
    },
    {
      "cell_type": "markdown",
      "metadata": {
        "id": "XQXemuz1UgEn",
        "colab_type": "text"
      },
      "source": [
        "#### Problem 10\n",
        "Query all attributes of every Japanese city in the CITY table. The COUNTRYCODE for Japan is JPN.\n",
        "\n",
        "**Input Format**\n",
        "\n",
        "The **CITY** table is described as follows: \n",
        "\n",
        "| Field | Type |\n",
        "|:----:|:---:|\n",
        "| ID | NUMBER |\n",
        "| NAME | VARCHAR2(17) |\n",
        "| COUNTRYCODE | VARCHAR2(3) |\n",
        "| DISTRICT | VARCHAR2(20) |\n",
        "| POPULATION | NUMBER |"
      ]
    },
    {
      "cell_type": "code",
      "metadata": {
        "id": "wkf8xI9IV9xd",
        "colab_type": "code",
        "colab": {}
      },
      "source": [
        "SELECT * FROM CITY WHERE COUNTRYCODE='JPN'"
      ],
      "execution_count": 0,
      "outputs": []
    },
    {
      "cell_type": "markdown",
      "metadata": {
        "id": "qQJaeWs3V-qj",
        "colab_type": "text"
      },
      "source": [
        "Link: https://www.hackerrank.com/rest/contests/master/challenges/japanese-cities-attributes/hackers/hang_ngo512/download_solution"
      ]
    },
    {
      "cell_type": "markdown",
      "metadata": {
        "id": "UoSd339kWEWr",
        "colab_type": "text"
      },
      "source": [
        "### Python"
      ]
    },
    {
      "cell_type": "markdown",
      "metadata": {
        "id": "oEUKpa_fWStP",
        "colab_type": "text"
      },
      "source": [
        "#### Problem 1\n",
        "\n",
        "**Task** \n",
        "Read two integers and print two lines. The first line should contain integer division,  a//b . The second line should contain float division,  a/b .\n",
        "\n",
        "You don't need to perform any rounding or formatting operations.\n",
        "\n",
        "**Input Format**\n",
        "\n",
        "The first line contains the first integer, a. The second line contains the second integer, b.\n",
        "\n",
        "**Output Format**\n",
        "\n",
        "Print the two lines as described above.\n",
        "\n",
        "**Sample Input 0**\n",
        "\n",
        "4\n",
        "3\n",
        "**Sample Output 0**\n",
        "\n",
        "1\n",
        "1.33333333333\n"
      ]
    },
    {
      "cell_type": "code",
      "metadata": {
        "id": "50vlOw_LXbUb",
        "colab_type": "code",
        "colab": {
          "base_uri": "https://localhost:8080/",
          "height": 102
        },
        "outputId": "3b049cb1-24a8-4506-8929-213e17c766d2"
      },
      "source": [
        "\n",
        "a = int(input())\n",
        "b = int(input())\n",
        "\n",
        "print(\"=======\")\n",
        "print(a//b)\n",
        "print(a/b)\n"
      ],
      "execution_count": 8,
      "outputs": [
        {
          "output_type": "stream",
          "text": [
            "4\n",
            "3\n",
            "=======\n",
            "1\n",
            "1.3333333333333333\n"
          ],
          "name": "stdout"
        }
      ]
    },
    {
      "cell_type": "markdown",
      "metadata": {
        "id": "Iin1Z0ULXk78",
        "colab_type": "text"
      },
      "source": [
        "Link: https://www.hackerrank.com/rest/contests/master/challenges/python-division/hackers/hang_ngo512/download_solution"
      ]
    },
    {
      "cell_type": "markdown",
      "metadata": {
        "id": "Kj8gX5FlXohZ",
        "colab_type": "text"
      },
      "source": [
        "#### Problem 2\n",
        "\n",
        "**Task**\n",
        "Read two integers from STDIN and print three lines where:\n",
        "\n",
        "The first line contains the sum of the two numbers.\n",
        "The second line contains the difference of the two numbers (first - second).\n",
        "The third line contains the product of the two numbers.\n",
        "\n",
        "**Input Format**\n",
        "\n",
        "The first line contains the first integer, ***a***. The second line contains the second integer, ***b***.\n",
        "\n",
        "**Output Format**\n",
        "\n",
        "Print the three lines as explained above.\n",
        "\n",
        "**Sample Input 0**\n",
        "\n",
        "3\n",
        "2\n",
        "\n",
        "**Sample Output 0**\n",
        "\n",
        "5\n",
        "1\n",
        "6\n",
        "\n",
        "**Explanation 0**\n",
        "\n",
        "3 + 2 = 5\n",
        "\n",
        "3-2 = 1\n",
        "\n",
        "3*2 = 6\n",
        " \n",
        " \n",
        "\n"
      ]
    },
    {
      "cell_type": "code",
      "metadata": {
        "id": "JcUVvVIzYXSr",
        "colab_type": "code",
        "colab": {}
      },
      "source": [
        "a = int(input())\n",
        "b = int(input())\n",
        "\n",
        "print(\"=======\")\n",
        "print(a+b);\n",
        "print(a-b);\n",
        "print(a*b);\n"
      ],
      "execution_count": 0,
      "outputs": []
    },
    {
      "cell_type": "markdown",
      "metadata": {
        "id": "zmJDy4TPY2SB",
        "colab_type": "text"
      },
      "source": [
        "Link: https://www.hackerrank.com/rest/contests/master/challenges/python-arithmetic-operators/hackers/hang_ngo512/download_solution"
      ]
    },
    {
      "cell_type": "markdown",
      "metadata": {
        "id": "R_0HJCNMY9ZQ",
        "colab_type": "text"
      },
      "source": [
        "#### Problem 3\n",
        "\n",
        "Task \n",
        "Read an integer ***N***. For all non-negative integers ***i < N*** , print i*i ***bold text***. See the sample for details.\n",
        "\n",
        "Input Format\n",
        "\n",
        "The first and only line contains the integer, ***N***.\n",
        "\n",
        "**Constraints**\n",
        " \n",
        " *1 <= N <= 20*\n",
        "\n",
        "**Output Format**\n",
        "\n",
        "Print ***N*** lines, one corresponding to each ***i***.\n",
        "\n",
        "**Sample Input 0**\n",
        "\n",
        "5\n",
        "\n",
        "**Sample Output 0**\n",
        "\n",
        "0\n",
        "1\n",
        "4\n",
        "9\n",
        "16"
      ]
    },
    {
      "cell_type": "code",
      "metadata": {
        "id": "KYvrDBr-agax",
        "colab_type": "code",
        "colab": {
          "base_uri": "https://localhost:8080/",
          "height": 119
        },
        "outputId": "aa849306-f82a-421d-dc1f-84ef7b383edf"
      },
      "source": [
        "n = int(input())\n",
        "\n",
        "for i in range(n):\n",
        "    print(i*i);"
      ],
      "execution_count": 11,
      "outputs": [
        {
          "output_type": "stream",
          "text": [
            "5\n",
            "0\n",
            "1\n",
            "4\n",
            "9\n",
            "16\n"
          ],
          "name": "stdout"
        }
      ]
    },
    {
      "cell_type": "markdown",
      "metadata": {
        "id": "Izc-LuExalRL",
        "colab_type": "text"
      },
      "source": [
        "Link: https://www.hackerrank.com/rest/contests/master/challenges/python-loops/hackers/hang_ngo512/download_solution"
      ]
    },
    {
      "cell_type": "markdown",
      "metadata": {
        "id": "6bz2Hpr_arYR",
        "colab_type": "text"
      },
      "source": [
        "#### Problem 4\n",
        "\n",
        "We add a Leap Day on February 29, almost every four years. The leap day is an extra, or intercalary day and we add it to the shortest month of the year, February. \n",
        "In the Gregorian calendar three criteria must be taken into account to identify leap years:\n",
        "\n",
        "The year can be evenly divided by 4, is a leap year, unless:\n",
        "The year can be evenly divided by 100, it is NOT a leap year, unless:\n",
        "The year is also evenly divisible by 400. Then it is a leap year.\n",
        "This means that in the Gregorian calendar, the years 2000 and 2400 are leap years, while 1800, 1900, 2100, 2200, 2300 and 2500 are NOT leap years.Source\n",
        "\n",
        "**Task** \n",
        "You are given the year, and you have to write a function to check if the year is leap or not.\n",
        "\n",
        "Note that you have to complete the function and remaining code is given as template.\n",
        "\n",
        "**Input Format**\n",
        "\n",
        "Read y, the year that needs to be checked.\n",
        "\n",
        "\n",
        "**Output Format**\n",
        "\n",
        "Output is taken care of by the template. Your function must return a boolean value (True/False)\n",
        "\n",
        "**Sample Input 0**\n",
        "\n",
        "1990\n",
        "\n",
        "**Sample Output 0**\n",
        "\n",
        "False\n",
        "\n",
        "**Explanation 0**\n",
        "\n",
        "1990 is not a multiple of 4 hence it's not a leap year."
      ]
    },
    {
      "cell_type": "code",
      "metadata": {
        "id": "rGPbWmWGbDCK",
        "colab_type": "code",
        "colab": {
          "base_uri": "https://localhost:8080/",
          "height": 51
        },
        "outputId": "1a3426bb-8023-434b-a3aa-ccf0055d4def"
      },
      "source": [
        "def is_leap(year):\n",
        "    leap = False\n",
        "\n",
        "    if year%400 == 0:\n",
        "        leap = True;\n",
        "    elif year%4 == 0 and not (year%100 == 0):\n",
        "        leap = True;\n",
        "    else:\n",
        "        leap = False;\n",
        "\n",
        "    return leap\n",
        "\n",
        "year = int(input())\n",
        "print(is_leap(year))"
      ],
      "execution_count": 14,
      "outputs": [
        {
          "output_type": "stream",
          "text": [
            "1900\n",
            "False\n"
          ],
          "name": "stdout"
        }
      ]
    },
    {
      "cell_type": "markdown",
      "metadata": {
        "id": "E1vOPezTbGUI",
        "colab_type": "text"
      },
      "source": [
        "Link: https://www.hackerrank.com/rest/contests/master/challenges/write-a-function/hackers/hang_ngo512/download_solution"
      ]
    },
    {
      "cell_type": "markdown",
      "metadata": {
        "id": "apswMquMbd1m",
        "colab_type": "text"
      },
      "source": [
        "#### Problem 5\n",
        "\n",
        "**Task**\n",
        "\n",
        "You are given a date. Your task is to find what the day is on that date.\n",
        "\n",
        "**Input Format**\n",
        "\n",
        "A single line of input containing the space separated month, day and year, respectively, in    format.\n",
        "\n",
        "**Constraints**\n",
        "\n",
        "*2000 < year < 3000*\n",
        "\n",
        "**Output Format**\n",
        "\n",
        "Output the correct day in capital letters.\n",
        "\n",
        "**Sample Input**\n",
        "\n",
        "08 05 2015\n",
        "\n",
        "**Sample Output**\n",
        "\n",
        "WEDNESDAY\n",
        "\n",
        "**Explanation**\n",
        "\n",
        "The day on August 5th 2015 was WEDNESDAY."
      ]
    },
    {
      "cell_type": "code",
      "metadata": {
        "id": "H2Ef7IBKb8ga",
        "colab_type": "code",
        "colab": {
          "base_uri": "https://localhost:8080/",
          "height": 51
        },
        "outputId": "fcde6f73-270b-4084-801c-6e482da7b1ab"
      },
      "source": [
        "import calendar\n",
        "\n",
        "dateInput = input().split()\n",
        "\n",
        "m = int(dateInput[0]);\n",
        "d = int(dateInput[1]);\n",
        "y = int(dateInput[2]);\n",
        "\n",
        "print(calendar.day_name[calendar.weekday(y, m, d)].upper())"
      ],
      "execution_count": 15,
      "outputs": [
        {
          "output_type": "stream",
          "text": [
            "09 12 2019\n",
            "THURSDAY\n"
          ],
          "name": "stdout"
        }
      ]
    },
    {
      "cell_type": "markdown",
      "metadata": {
        "id": "rSx0KeoPcDS5",
        "colab_type": "text"
      },
      "source": [
        "Link: https://www.hackerrank.com/rest/contests/master/challenges/calendar-module/hackers/hang_ngo512/download_solution "
      ]
    }
  ]
}